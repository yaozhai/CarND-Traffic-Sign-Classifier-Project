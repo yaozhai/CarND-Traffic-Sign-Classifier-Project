{
 "cells": [
  {
   "cell_type": "markdown",
   "metadata": {},
   "source": [
    "# Self-Driving Car Engineer Nanodegree\n",
    "\n",
    "## Deep Learning\n",
    "\n",
    "## Project: Build a Traffic Sign Recognition Classifier\n",
    "\n",
    "In this notebook, a template is provided for you to implement your functionality in stages which is required to successfully complete this project. If additional code is required that cannot be included in the notebook, be sure that the Python code is successfully imported and included in your submission, if necessary. Sections that begin with **'Implementation'** in the header indicate where you should begin your implementation for your project. Note that some sections of implementation are optional, and will be marked with **'Optional'** in the header.\n",
    "\n",
    "In addition to implementing code, there will be questions that you must answer which relate to the project and your implementation. Each section where you will answer a question is preceded by a **'Question'** header. Carefully read each question and provide thorough answers in the following text boxes that begin with **'Answer:'**. Your project submission will be evaluated based on your answers to each of the questions and the implementation you provide.\n",
    "\n",
    ">**Note:** Code and Markdown cells can be executed using the **Shift + Enter** keyboard shortcut. In addition, Markdown cells can be edited by typically double-clicking the cell to enter edit mode."
   ]
  },
  {
   "cell_type": "markdown",
   "metadata": {},
   "source": [
    "---\n",
    "## Step 0: Load The Data"
   ]
  },
  {
   "cell_type": "code",
   "execution_count": 1,
   "metadata": {
    "collapsed": false
   },
   "outputs": [],
   "source": [
    "# Load pickled data\n",
    "import pickle\n",
    "import cv2\n",
    "import glob\n",
    "import numpy as np\n",
    "from PIL import Image\n",
    "\n",
    "# TODO: Fill this in based on where you saved the training and testing data\n",
    "\n",
    "training_file = '/root/CarND-Traffic-Sign-Classifier-Project/traffic-signs-data/train.p'\n",
    "testing_file = '/root/CarND-Traffic-Sign-Classifier-Project/traffic-signs-data/test.p'\n",
    "\n",
    "with open(training_file, mode='rb') as f:\n",
    "    train = pickle.load(f)\n",
    "with open(testing_file, mode='rb') as f:\n",
    "    test = pickle.load(f)\n",
    "    \n",
    "X_train, y_train = train['features'], train['labels']\n",
    "X_test, y_test = test['features'], test['labels']"
   ]
  },
  {
   "cell_type": "markdown",
   "metadata": {},
   "source": [
    "---\n",
    "\n",
    "## Step 1: Dataset Summary & Exploration\n",
    "\n",
    "The pickled data is a dictionary with 4 key/value pairs:\n",
    "\n",
    "- `'features'` is a 4D array containing raw pixel data of the traffic sign images, (num examples, width, height, channels).\n",
    "- `'labels'` is a 1D array containing the label/class id of the traffic sign. The file `signnames.csv` contains id -> name mappings for each id.\n",
    "- `'sizes'` is a list containing tuples, (width, height) representing the the original width and height the image.\n",
    "- `'coords'` is a list containing tuples, (x1, y1, x2, y2) representing coordinates of a bounding box around the sign in the image. **THESE COORDINATES ASSUME THE ORIGINAL IMAGE. THE PICKLED DATA CONTAINS RESIZED VERSIONS (32 by 32) OF THESE IMAGES**\n",
    "\n",
    "Complete the basic data summary below."
   ]
  },
  {
   "cell_type": "code",
   "execution_count": 2,
   "metadata": {
    "collapsed": false
   },
   "outputs": [
    {
     "name": "stdout",
     "output_type": "stream",
     "text": [
      "Number of training examples = 39209\n",
      "Number of testing examples = 12630\n",
      "Image data shape = (32, 32, 3)\n",
      "Number of classes = 43\n"
     ]
    }
   ],
   "source": [
    "### Replace each question mark with the appropriate value.\n",
    "\n",
    "# TODO: Number of training examples\n",
    "n_train = len(X_train)\n",
    "\n",
    "# TODO: Number of testing examples.\n",
    "n_test = len(X_test)\n",
    "\n",
    "# TODO: What's the shape of an traffic sign image?\n",
    "image_shape = X_train[0].shape\n",
    "\n",
    "# TODO: How many unique classes/labels there are in the dataset.\n",
    "n_classes = len(list(set(y_train)))\n",
    "\n",
    "print(\"Number of training examples =\", n_train)\n",
    "print(\"Number of testing examples =\", n_test)\n",
    "print(\"Image data shape =\", image_shape)\n",
    "print(\"Number of classes =\", n_classes)"
   ]
  },
  {
   "cell_type": "markdown",
   "metadata": {},
   "source": [
    "Visualize the German Traffic Signs Dataset using the pickled file(s). This is open ended, suggestions include: plotting traffic sign images, plotting the count of each sign, etc.\n",
    "\n",
    "The [Matplotlib](http://matplotlib.org/) [examples](http://matplotlib.org/examples/index.html) and [gallery](http://matplotlib.org/gallery.html) pages are a great resource for doing visualizations in Python.\n",
    "\n",
    "**NOTE:** It's recommended you start with something simple first. If you wish to do more, come back to it after you've completed the rest of the sections."
   ]
  },
  {
   "cell_type": "code",
   "execution_count": 3,
   "metadata": {
    "collapsed": false
   },
   "outputs": [
    {
     "name": "stdout",
     "output_type": "stream",
     "text": [
      "11\n"
     ]
    },
    {
     "data": {
      "image/png": "[encoded data removed]",
      "text/plain": [
       "<matplotlib.figure.Figure at 0x7eff940ba2e8>"
      ]
     },
     "metadata": {},
     "output_type": "display_data"
    }
   ],
   "source": [
    "### Data exploration visualization goes here.\n",
    "### Feel free to use as many code cells as needed.\n",
    "import matplotlib.pyplot as plt\n",
    "import random\n",
    "# Visualizations will be shown in the notebook.\n",
    "%matplotlib inline\n",
    "\n",
    "index = random.randint(0, len(X_train))\n",
    "image = X_train[index].squeeze()\n",
    "plt.figure(figsize=(1,1))\n",
    "plt.imshow(image)\n",
    "print(y_train[index])"
   ]
  },
  {
   "cell_type": "markdown",
   "metadata": {},
   "source": [
    "----\n",
    "\n",
    "## Step 2: Design and Test a Model Architecture\n",
    "\n",
    "Design and implement a deep learning model that learns to recognize traffic signs. Train and test your model on the [German Traffic Sign Dataset](http://benchmark.ini.rub.de/?section=gtsrb&subsection=dataset).\n",
    "\n",
    "There are various aspects to consider when thinking about this problem:\n",
    "\n",
    "- Neural network architecture\n",
    "- Play around preprocessing techniques (normalization, rgb to grayscale, etc)\n",
    "- Number of examples per label (some have more than others).\n",
    "- Generate fake data.\n",
    "\n",
    "Here is an example of a [published baseline model on this problem](http://yann.lecun.com/exdb/publis/pdf/sermanet-ijcnn-11.pdf). It's not required to be familiar with the approach used in the paper but, it's good practice to try to read papers like these.\n",
    "\n",
    "**NOTE:** The LeNet-5 implementation shown in the [classroom](https://classroom.udacity.com/nanodegrees/nd013/parts/fbf77062-5703-404e-b60c-95b78b2f3f9e/modules/6df7ae49-c61c-4bb2-a23e-6527e69209ec/lessons/601ae704-1035-4287-8b11-e2c2716217ad/concepts/d4aca031-508f-4e0b-b493-e7b706120f81) at the end of the CNN lesson is a solid starting point. You'll have to change the number of classes and possibly the preprocessing, but aside from that it's plug and play!"
   ]
  },
  {
   "cell_type": "markdown",
   "metadata": {},
   "source": [
    "### Implementation\n",
    "\n",
    "Use the code cell (or multiple code cells, if necessary) to implement the first step of your project. Once you have completed your implementation and are satisfied with the results, be sure to thoroughly answer the questions that follow."
   ]
  },
  {
   "cell_type": "code",
   "execution_count": 4,
   "metadata": {
    "collapsed": false
   },
   "outputs": [],
   "source": [
    "### Preprocess the data here.\n",
    "### Feel free to use as many code cells as needed.\n",
    "import tensorflow as tf\n",
    "from sklearn.utils import shuffle\n",
    "from tensorflow.contrib.layers import flatten\n",
    "\n",
    "EPOCHS = 100\n",
    "BATCH_SIZE = 128\n",
    "rate = 0.001\n",
    "# dropout = 0.75\n",
    "\n",
    "x = tf.placeholder(tf.float32, (None, 32, 32, 3))\n",
    "y = tf.placeholder(tf.int32, (None))\n",
    "one_hot_y = tf.one_hot(y, 43)\n",
    "keep_prob = tf.placeholder(tf.float32) #dropout (keep probability)"
   ]
  },
  {
   "cell_type": "markdown",
   "metadata": {},
   "source": [
    "### Question 1 \n",
    "\n",
    "_Describe how you preprocessed the data. Why did you choose that technique?_"
   ]
  },
  {
   "cell_type": "markdown",
   "metadata": {},
   "source": [
    "**Answer:** creates x and y as inputs and output of the model, then convert y to one-hot vector. Define dropout to ease overfitting."
   ]
  },
  {
   "cell_type": "code",
   "execution_count": 5,
   "metadata": {
    "collapsed": true
   },
   "outputs": [],
   "source": [
    "### Generate additional data (OPTIONAL!)\n",
    "### and split the data into training/validation/testing sets here.\n",
    "### Feel free to use as many code cells as needed.\n",
    "from sklearn.model_selection import train_test_split\n",
    "\n",
    "X_train, X_validation, y_train, y_validation = train_test_split(\n",
    "    X_train, y_train, test_size=0.1, random_state=0\n",
    ")"
   ]
  },
  {
   "cell_type": "markdown",
   "metadata": {},
   "source": [
    "### Question 2\n",
    "\n",
    "_Describe how you set up the training, validation and testing data for your model. **Optional**: If you generated additional data, how did you generate the data? Why did you generate the data? What are the differences in the new dataset (with generated data) from the original dataset?_"
   ]
  },
  {
   "cell_type": "markdown",
   "metadata": {},
   "source": [
    "**Answer:** didn't touch the testing data, but split the original training data into 90% training vs. 10% validation data."
   ]
  },
  {
   "cell_type": "code",
   "execution_count": 6,
   "metadata": {
    "collapsed": true
   },
   "outputs": [],
   "source": [
    "### Define your architecture here.\n",
    "### Feel free to use as many code cells as needed.\n",
    "def LeNet(x, drop):\n",
    "    # Arguments used for tf.truncated_normal, randomly defines variables for the weights and biases for each layer\n",
    "    mu = 0\n",
    "    sigma = 0.1\n",
    "\n",
    "    # SOLUTION: Layer 1: Convolutional. Input = 32x32x3. Output = 28x28x36.\n",
    "    conv1_W = tf.Variable(tf.truncated_normal(shape=(5, 5, 3, 36), mean=mu, stddev=sigma))\n",
    "    conv1_b = tf.Variable(tf.zeros(36))\n",
    "    conv1 = tf.nn.conv2d(x, conv1_W, strides=[1, 1, 1, 1], padding='VALID') + conv1_b\n",
    "\n",
    "    # SOLUTION: Activation.\n",
    "    conv1 = tf.nn.relu(conv1)\n",
    "\n",
    "    # SOLUTION: Pooling. Input = 28x28x36. Output = 14x14x36.\n",
    "    conv1 = tf.nn.max_pool(conv1, ksize=[1, 2, 2, 1], strides=[1, 2, 2, 1], padding='VALID')\n",
    "\n",
    "    # SOLUTION: Layer 2: Convolutional. Output = 10x10x128.\n",
    "    conv2_W = tf.Variable(tf.truncated_normal(shape=(5, 5, 36, 128), mean=mu, stddev=sigma))\n",
    "    conv2_b = tf.Variable(tf.zeros(128))\n",
    "    conv2 = tf.nn.conv2d(conv1, conv2_W, strides=[1, 1, 1, 1], padding='VALID') + conv2_b\n",
    "\n",
    "    # SOLUTION: Activation.\n",
    "    conv2 = tf.nn.relu(conv2)\n",
    "\n",
    "    # SOLUTION: Pooling. Input = 10x10x128. Output = 5x5x128.\n",
    "    conv2 = tf.nn.max_pool(conv2, ksize=[1, 2, 2, 1], strides=[1, 2, 2, 1], padding='VALID')\n",
    "\n",
    "    # SOLUTION: Flatten. Input = 5x5x128. Output = 3200.\n",
    "    fc0 = flatten(conv2)\n",
    "\n",
    "    # SOLUTION: Layer 3: Fully Connected. Input = 3200. Output = 800.\n",
    "    fc1_W = tf.Variable(tf.truncated_normal(shape=(3200, 800), mean=mu, stddev=sigma))\n",
    "    fc1_b = tf.Variable(tf.zeros(800))\n",
    "    fc1 = tf.matmul(fc0, fc1_W) + fc1_b\n",
    "\n",
    "    # SOLUTION: Activation.\n",
    "    fc1 = tf.nn.relu(fc1)\n",
    "\n",
    "    # SOLUTION: Layer 4: Fully Connected. Input = 800. Output = 200.\n",
    "    fc2_W = tf.Variable(tf.truncated_normal(shape=(800, 200), mean=mu, stddev=sigma))\n",
    "    fc2_b = tf.Variable(tf.zeros(200))\n",
    "    fc2 = tf.matmul(fc1, fc2_W) + fc2_b\n",
    "\n",
    "    # SOLUTION: Activation.\n",
    "    fc2 = tf.nn.relu(fc2)\n",
    "    fc2 = tf.nn.dropout(fc2, drop)\n",
    "\n",
    "    # SOLUTION: Layer 5: Fully Connected. Input = 200. Output = 43.\n",
    "    fc3_W = tf.Variable(tf.truncated_normal(shape=(200, 43), mean=mu, stddev=sigma))\n",
    "    fc3_b = tf.Variable(tf.zeros(43))\n",
    "    logits = tf.matmul(fc2, fc3_W) + fc3_b\n",
    "\n",
    "    return logits\n",
    "\n",
    "\n",
    "logits = LeNet(x, keep_prob)\n",
    "cross_entropy = tf.nn.softmax_cross_entropy_with_logits(logits, one_hot_y)\n",
    "loss_operation = tf.reduce_mean(cross_entropy)\n",
    "optimizer = tf.train.AdamOptimizer(learning_rate = rate)\n",
    "training_operation = optimizer.minimize(loss_operation)\n",
    "\n",
    "correct_prediction = tf.equal(tf.argmax(logits, 1), tf.argmax(one_hot_y, 1))\n",
    "accuracy_operation = tf.reduce_mean(tf.cast(correct_prediction, tf.float32))\n",
    "saver = tf.train.Saver()\n",
    "\n",
    "def evaluate(X_data, y_data, dropout):\n",
    "    num_examples = len(X_data)\n",
    "    total_accuracy = 0\n",
    "    sess = tf.get_default_session()\n",
    "    for offset in range(0, num_examples, BATCH_SIZE):\n",
    "        batch_x, batch_y = X_data[offset:offset+BATCH_SIZE], y_data[offset:offset+BATCH_SIZE]\n",
    "        accuracy = sess.run(accuracy_operation, feed_dict={x: batch_x, y: batch_y, keep_prob: dropout})\n",
    "        total_accuracy += (accuracy * len(batch_x))\n",
    "    return total_accuracy / num_examples"
   ]
  },
  {
   "cell_type": "markdown",
   "metadata": {},
   "source": [
    "### Question 3\n",
    "\n",
    "_What does your final architecture look like? (Type of model, layers, sizes, connectivity, etc.)  For reference on how to build a deep neural network using TensorFlow, see [Deep Neural Network in TensorFlow\n",
    "](https://classroom.udacity.com/nanodegrees/nd013/parts/fbf77062-5703-404e-b60c-95b78b2f3f9e/modules/6df7ae49-c61c-4bb2-a23e-6527e69209ec/lessons/b516a270-8600-4f93-a0a3-20dfeabe5da6/concepts/83a3a2a2-a9bd-4b7b-95b0-eb924ab14432) from the classroom._\n"
   ]
  },
  {
   "cell_type": "markdown",
   "metadata": {},
   "source": [
    "**Answer:** Input => ConvNet => ReLU => MaxPool => ConvNet => ReLU => MaxPool => FC => ReLU => FC => ReLU => Dropout => SoftMax <> Labels"
   ]
  },
  {
   "cell_type": "code",
   "execution_count": 7,
   "metadata": {
    "collapsed": false
   },
   "outputs": [
    {
     "name": "stdout",
     "output_type": "stream",
     "text": [
      "Training...\n",
      "\n",
      "EPOCH 1 ...\n",
      "Validation Accuracy = 0.143\n",
      "\n",
      "EPOCH 2 ...\n",
      "Validation Accuracy = 0.163\n",
      "\n",
      "EPOCH 3 ...\n",
      "Validation Accuracy = 0.195\n",
      "\n",
      "EPOCH 4 ...\n",
      "Validation Accuracy = 0.241\n",
      "\n",
      "EPOCH 5 ...\n",
      "Validation Accuracy = 0.254\n",
      "\n",
      "EPOCH 6 ...\n",
      "Validation Accuracy = 0.257\n",
      "\n",
      "EPOCH 7 ...\n",
      "Validation Accuracy = 0.286\n",
      "\n",
      "EPOCH 8 ...\n",
      "Validation Accuracy = 0.310\n",
      "\n",
      "EPOCH 9 ...\n",
      "Validation Accuracy = 0.331\n",
      "\n",
      "EPOCH 10 ...\n",
      "Validation Accuracy = 0.371\n",
      "\n",
      "EPOCH 11 ...\n",
      "Validation Accuracy = 0.385\n",
      "\n",
      "EPOCH 12 ...\n",
      "Validation Accuracy = 0.403\n",
      "\n",
      "EPOCH 13 ...\n",
      "Validation Accuracy = 0.422\n",
      "\n",
      "EPOCH 14 ...\n",
      "Validation Accuracy = 0.422\n",
      "\n",
      "EPOCH 15 ...\n",
      "Validation Accuracy = 0.449\n",
      "\n",
      "EPOCH 16 ...\n",
      "Validation Accuracy = 0.451\n",
      "\n",
      "EPOCH 17 ...\n",
      "Validation Accuracy = 0.471\n",
      "\n",
      "EPOCH 18 ...\n",
      "Validation Accuracy = 0.476\n",
      "\n",
      "EPOCH 19 ...\n",
      "Validation Accuracy = 0.541\n",
      "\n",
      "EPOCH 20 ...\n",
      "Validation Accuracy = 0.560\n",
      "\n",
      "EPOCH 21 ...\n",
      "Validation Accuracy = 0.607\n",
      "\n",
      "EPOCH 22 ...\n",
      "Validation Accuracy = 0.685\n",
      "\n",
      "EPOCH 23 ...\n",
      "Validation Accuracy = 0.695\n",
      "\n",
      "EPOCH 24 ...\n",
      "Validation Accuracy = 0.725\n",
      "\n",
      "EPOCH 25 ...\n",
      "Validation Accuracy = 0.749\n",
      "\n",
      "EPOCH 26 ...\n",
      "Validation Accuracy = 0.763\n",
      "\n",
      "EPOCH 27 ...\n",
      "Validation Accuracy = 0.784\n",
      "\n",
      "EPOCH 28 ...\n",
      "Validation Accuracy = 0.803\n",
      "\n",
      "EPOCH 29 ...\n",
      "Validation Accuracy = 0.857\n",
      "\n",
      "EPOCH 30 ...\n",
      "Validation Accuracy = 0.879\n",
      "\n",
      "EPOCH 31 ...\n",
      "Validation Accuracy = 0.874\n",
      "\n",
      "EPOCH 32 ...\n",
      "Validation Accuracy = 0.903\n",
      "\n",
      "EPOCH 33 ...\n",
      "Validation Accuracy = 0.914\n",
      "\n",
      "EPOCH 34 ...\n",
      "Validation Accuracy = 0.924\n",
      "\n",
      "EPOCH 35 ...\n",
      "Validation Accuracy = 0.919\n",
      "\n",
      "EPOCH 36 ...\n",
      "Validation Accuracy = 0.943\n",
      "\n",
      "EPOCH 37 ...\n",
      "Validation Accuracy = 0.953\n",
      "\n",
      "EPOCH 38 ...\n",
      "Validation Accuracy = 0.944\n",
      "\n",
      "EPOCH 39 ...\n",
      "Validation Accuracy = 0.955\n",
      "\n",
      "EPOCH 40 ...\n",
      "Validation Accuracy = 0.928\n",
      "\n",
      "EPOCH 41 ...\n",
      "Validation Accuracy = 0.965\n",
      "\n",
      "EPOCH 42 ...\n",
      "Validation Accuracy = 0.965\n",
      "\n",
      "EPOCH 43 ...\n",
      "Validation Accuracy = 0.949\n",
      "\n",
      "EPOCH 44 ...\n",
      "Validation Accuracy = 0.977\n",
      "\n",
      "EPOCH 45 ...\n",
      "Validation Accuracy = 0.965\n",
      "\n",
      "EPOCH 46 ...\n",
      "Validation Accuracy = 0.963\n",
      "\n",
      "EPOCH 47 ...\n",
      "Validation Accuracy = 0.950\n",
      "\n",
      "EPOCH 48 ...\n",
      "Validation Accuracy = 0.967\n",
      "\n",
      "EPOCH 49 ...\n",
      "Validation Accuracy = 0.974\n",
      "\n",
      "EPOCH 50 ...\n",
      "Validation Accuracy = 0.977\n",
      "\n",
      "EPOCH 51 ...\n",
      "Validation Accuracy = 0.972\n",
      "\n",
      "EPOCH 52 ...\n",
      "Validation Accuracy = 0.981\n",
      "\n",
      "EPOCH 53 ...\n",
      "Validation Accuracy = 0.975\n",
      "\n",
      "EPOCH 54 ...\n",
      "Validation Accuracy = 0.972\n",
      "\n",
      "EPOCH 55 ...\n",
      "Validation Accuracy = 0.972\n",
      "\n",
      "EPOCH 56 ...\n",
      "Validation Accuracy = 0.971\n",
      "\n",
      "EPOCH 57 ...\n",
      "Validation Accuracy = 0.965\n",
      "\n",
      "EPOCH 58 ...\n",
      "Validation Accuracy = 0.983\n",
      "\n",
      "EPOCH 59 ...\n",
      "Validation Accuracy = 0.961\n",
      "\n",
      "EPOCH 60 ...\n",
      "Validation Accuracy = 0.971\n",
      "\n",
      "EPOCH 61 ...\n",
      "Validation Accuracy = 0.983\n",
      "\n",
      "EPOCH 62 ...\n",
      "Validation Accuracy = 0.980\n",
      "\n",
      "EPOCH 63 ...\n",
      "Validation Accuracy = 0.980\n",
      "\n",
      "EPOCH 64 ...\n",
      "Validation Accuracy = 0.978\n",
      "\n",
      "EPOCH 65 ...\n",
      "Validation Accuracy = 0.979\n",
      "\n",
      "EPOCH 66 ...\n",
      "Validation Accuracy = 0.939\n",
      "\n",
      "EPOCH 67 ...\n",
      "Validation Accuracy = 0.977\n",
      "\n",
      "EPOCH 68 ...\n",
      "Validation Accuracy = 0.986\n",
      "\n",
      "EPOCH 69 ...\n",
      "Validation Accuracy = 0.985\n",
      "\n",
      "EPOCH 70 ...\n",
      "Validation Accuracy = 0.976\n",
      "\n",
      "EPOCH 71 ...\n",
      "Validation Accuracy = 0.979\n",
      "\n",
      "EPOCH 72 ...\n",
      "Validation Accuracy = 0.924\n",
      "\n",
      "EPOCH 73 ...\n",
      "Validation Accuracy = 0.966\n",
      "\n",
      "EPOCH 74 ...\n",
      "Validation Accuracy = 0.969\n",
      "\n",
      "EPOCH 75 ...\n",
      "Validation Accuracy = 0.980\n",
      "\n",
      "EPOCH 76 ...\n",
      "Validation Accuracy = 0.980\n",
      "\n",
      "EPOCH 77 ...\n",
      "Validation Accuracy = 0.986\n",
      "\n",
      "EPOCH 78 ...\n",
      "Validation Accuracy = 0.977\n",
      "\n",
      "EPOCH 79 ...\n",
      "Validation Accuracy = 0.983\n",
      "\n",
      "EPOCH 80 ...\n",
      "Validation Accuracy = 0.981\n",
      "\n",
      "EPOCH 81 ...\n",
      "Validation Accuracy = 0.980\n",
      "\n",
      "EPOCH 82 ...\n",
      "Validation Accuracy = 0.966\n",
      "\n",
      "EPOCH 83 ...\n",
      "Validation Accuracy = 0.973\n",
      "\n",
      "EPOCH 84 ...\n",
      "Validation Accuracy = 0.979\n",
      "\n",
      "EPOCH 85 ...\n",
      "Validation Accuracy = 0.984\n",
      "\n",
      "EPOCH 86 ...\n",
      "Validation Accuracy = 0.978\n",
      "\n",
      "EPOCH 87 ...\n",
      "Validation Accuracy = 0.977\n",
      "\n",
      "EPOCH 88 ...\n",
      "Validation Accuracy = 0.983\n",
      "\n",
      "EPOCH 89 ...\n",
      "Validation Accuracy = 0.982\n",
      "\n",
      "EPOCH 90 ...\n",
      "Validation Accuracy = 0.987\n",
      "\n",
      "EPOCH 91 ...\n",
      "Validation Accuracy = 0.976\n",
      "\n",
      "EPOCH 92 ...\n",
      "Validation Accuracy = 0.984\n",
      "\n",
      "EPOCH 93 ...\n",
      "Validation Accuracy = 0.982\n",
      "\n",
      "EPOCH 94 ...\n",
      "Validation Accuracy = 0.979\n",
      "\n",
      "EPOCH 95 ...\n",
      "Validation Accuracy = 0.983\n",
      "\n",
      "EPOCH 96 ...\n",
      "Validation Accuracy = 0.970\n",
      "\n",
      "EPOCH 97 ...\n",
      "Validation Accuracy = 0.986\n",
      "\n",
      "EPOCH 98 ...\n",
      "Validation Accuracy = 0.979\n",
      "\n",
      "EPOCH 99 ...\n",
      "Validation Accuracy = 0.977\n",
      "\n",
      "EPOCH 100 ...\n",
      "Validation Accuracy = 0.988\n",
      "\n",
      "Model saved\n",
      "Test Accuracy = 0.948\n"
     ]
    }
   ],
   "source": [
    "### Train your model here.\n",
    "### Feel free to use as many code cells as needed.\n",
    "\n",
    "with tf.Session() as sess:\n",
    "    sess.run(tf.global_variables_initializer())\n",
    "    num_examples = len(X_train)\n",
    "    dropout = 0.75\n",
    "\n",
    "    print(\"Training...\")\n",
    "    print()\n",
    "\n",
    "    for i in range(EPOCHS):\n",
    "        X_train, y_train = shuffle(X_train, y_train)\n",
    "        for offset in range(0, num_examples, BATCH_SIZE):\n",
    "            end = offset + BATCH_SIZE\n",
    "            batch_x, batch_y = X_train[offset:end], y_train[offset:end]\n",
    "            sess.run(training_operation, feed_dict={x: batch_x, y: batch_y, keep_prob: dropout})\n",
    "\n",
    "        validation_accuracy = evaluate(X_validation, y_validation, dropout)\n",
    "        print(\"EPOCH {} ...\".format(i + 1))\n",
    "        print(\"Validation Accuracy = {:.3f}\".format(validation_accuracy))\n",
    "        print()\n",
    "\n",
    "    try:\n",
    "        saver\n",
    "    except NameError:\n",
    "        saver = tf.train.Saver()\n",
    "\n",
    "    saver.save(sess, './lenet')\n",
    "    print(\"Model saved\")\n",
    "    \n",
    "with tf.Session() as sess:\n",
    "    saver.restore(sess, tf.train.latest_checkpoint('.'))\n",
    "    dropout = 1\n",
    "\n",
    "    test_accuracy = evaluate(X_test, y_test, dropout)\n",
    "    print(\"Test Accuracy = {:.3f}\".format(test_accuracy))"
   ]
  },
  {
   "cell_type": "markdown",
   "metadata": {},
   "source": [
    "### Question 4\n",
    "\n",
    "_How did you train your model? (Type of optimizer, batch size, epochs, hyperparameters, etc.)_\n"
   ]
  },
  {
   "cell_type": "markdown",
   "metadata": {},
   "source": [
    "**Answer:** AdamOptimizer, Batch Size 128, 100 epochs, learning rate: 0.001, dropout 0.75"
   ]
  },
  {
   "cell_type": "markdown",
   "metadata": {},
   "source": [
    "### Question 5\n",
    "\n",
    "\n",
    "_What approach did you take in coming up with a solution to this problem? It may have been a process of trial and error, in which case, outline the steps you took to get to the final solution and why you chose those steps. Perhaps your solution involved an already well known implementation or architecture. In this case, discuss why you think this is suitable for the current problem._"
   ]
  },
  {
   "cell_type": "markdown",
   "metadata": {},
   "source": [
    "**Answer:** Based on LeNet, trying to fine tune parameters including leanring rate, dropout, some network archetecture changes like adjust the position of some ConvNets and the amount of parameters and depth of these ConvNets. "
   ]
  },
  {
   "cell_type": "markdown",
   "metadata": {},
   "source": [
    "---\n",
    "\n",
    "## Step 3: Test a Model on New Images\n",
    "\n",
    "Take several pictures of traffic signs that you find on the web or around you (at least five), and run them through your classifier on your computer to produce example results. The classifier might not recognize some local signs but it could prove interesting nonetheless.\n",
    "\n",
    "You may find `signnames.csv` useful as it contains mappings from the class id (integer) to the actual sign name."
   ]
  },
  {
   "cell_type": "markdown",
   "metadata": {},
   "source": [
    "### Implementation\n",
    "\n",
    "Use the code cell (or multiple code cells, if necessary) to implement the first step of your project. Once you have completed your implementation and are satisfied with the results, be sure to thoroughly answer the questions that follow."
   ]
  },
  {
   "cell_type": "code",
   "execution_count": 8,
   "metadata": {
    "collapsed": false
   },
   "outputs": [
    {
     "name": "stdout",
     "output_type": "stream",
     "text": [
      "./traffic/70_32_32.jpg\n",
      "<PIL.JpegImagePlugin.JpegImageFile image mode=RGB size=32x32 at 0x7EFF940AFA58>\n",
      "./traffic/stop_32_32.jpg\n",
      "<PIL.JpegImagePlugin.JpegImageFile image mode=RGB size=32x32 at 0x7EFF25AF20F0>\n",
      "./traffic/ped_32_32.jpg\n",
      "<PIL.JpegImagePlugin.JpegImageFile image mode=RGB size=32x32 at 0x7EFF940AFA58>\n",
      "./traffic/30_32_32.jpg\n",
      "<PIL.JpegImagePlugin.JpegImageFile image mode=RGB size=32x32 at 0x7EFF25AF2F28>\n",
      "./traffic/yield_32_32.jpg\n",
      "<PIL.JpegImagePlugin.JpegImageFile image mode=RGB size=32x32 at 0x7EFF25AFF048>\n",
      "./traffic/kindergarten_32_32.jpg\n",
      "<PIL.JpegImagePlugin.JpegImageFile image mode=RGB size=32x32 at 0x7EFF25AFF128>\n",
      "['./traffic/70_32_32.jpg', './traffic/stop_32_32.jpg', './traffic/ped_32_32.jpg', './traffic/30_32_32.jpg', './traffic/yield_32_32.jpg', './traffic/kindergarten_32_32.jpg']\n"
     ]
    }
   ],
   "source": [
    "### Load the images and plot them here.\n",
    "### Feel free to use as many code cells as needed.\n",
    "\n",
    "predict_img = []\n",
    "image_list = []\n",
    "\n",
    "for image_path in glob.glob(\"./traffic/*.jpg\"):\n",
    "    #collect names of these iamges\n",
    "    print(image_path)\n",
    "    image_list.append(image_path)\n",
    "    #cv_image = cv2.imread(image_path)\n",
    "    cv_image = Image.open(image_path)\n",
    "    print(cv_image)\n",
    "    res_image = np.array(cv_image)\n",
    "    # collection of images to be processed\n",
    "    predict_img.append(res_image)\n",
    "    \n",
    "print(image_list)"
   ]
  },
  {
   "cell_type": "markdown",
   "metadata": {},
   "source": [
    "### Question 6\n",
    "\n",
    "_Choose five candidate images of traffic signs and provide them in the report. Are there any particular qualities of the image(s) that might make classification difficult? It could be helpful to plot the images in the notebook._\n",
    "\n"
   ]
  },
  {
   "cell_type": "markdown",
   "metadata": {},
   "source": [
    "**Answer:** low resolution, skewed images, out of focus"
   ]
  },
  {
   "cell_type": "code",
   "execution_count": 15,
   "metadata": {
    "collapsed": false
   },
   "outputs": [
    {
     "name": "stdout",
     "output_type": "stream",
     "text": [
      "\n",
      "./traffic/70_32_32.jpg\n",
      "value: 1.0 <==> index: 1\n",
      "value: 4.985242975361051e-25 <==> index: 0\n",
      "value: 7.578590568318149e-27 <==> index: 8\n",
      "value: 1.691187763289856e-33 <==> index: 26\n",
      "value: 8.00045641576837e-37 <==> index: 32\n"
     ]
    },
    {
     "data": {
      "image/png": "[encoded data removed]",
      "text/plain": [
       "<matplotlib.figure.Figure at 0x7eff5e7e8c50>"
      ]
     },
     "metadata": {},
     "output_type": "display_data"
    },
    {
     "name": "stdout",
     "output_type": "stream",
     "text": [
      "\n",
      "./traffic/stop_32_32.jpg\n",
      "value: 1.0 <==> index: 14\n",
      "value: 0.0 <==> index: 0\n",
      "value: 0.0 <==> index: 1\n",
      "value: 0.0 <==> index: 2\n",
      "value: 0.0 <==> index: 3\n"
     ]
    },
    {
     "data": {
      "image/png": "[encoded data removed]",
      "text/plain": [
       "<matplotlib.figure.Figure at 0x7eff259c5710>"
      ]
     },
     "metadata": {},
     "output_type": "display_data"
    },
    {
     "name": "stdout",
     "output_type": "stream",
     "text": [
      "\n",
      "./traffic/ped_32_32.jpg\n",
      "value: 1.0 <==> index: 27\n",
      "value: 7.915009793413308e-13 <==> index: 24\n",
      "value: 6.170306371964043e-14 <==> index: 18\n",
      "value: 1.92608372322816e-19 <==> index: 26\n",
      "value: 5.492880765998425e-23 <==> index: 11\n"
     ]
    },
    {
     "data": {
      "image/png": "[encoded data removed]",
      "text/plain": [
       "<matplotlib.figure.Figure at 0x7eff24315518>"
      ]
     },
     "metadata": {},
     "output_type": "display_data"
    },
    {
     "name": "stdout",
     "output_type": "stream",
     "text": [
      "\n",
      "./traffic/30_32_32.jpg\n",
      "value: 1.0 <==> index: 1\n",
      "value: 0.0 <==> index: 0\n",
      "value: 0.0 <==> index: 2\n",
      "value: 0.0 <==> index: 3\n",
      "value: 0.0 <==> index: 4\n"
     ]
    },
    {
     "data": {
      "image/png": "[encoded data removed]",
      "text/plain": [
       "<matplotlib.figure.Figure at 0x7eff25a538d0>"
      ]
     },
     "metadata": {},
     "output_type": "display_data"
    },
    {
     "name": "stdout",
     "output_type": "stream",
     "text": [
      "\n",
      "./traffic/yield_32_32.jpg\n",
      "value: 1.0 <==> index: 13\n",
      "value: 0.0 <==> index: 0\n",
      "value: 0.0 <==> index: 1\n",
      "value: 0.0 <==> index: 2\n",
      "value: 0.0 <==> index: 3\n"
     ]
    },
    {
     "data": {
      "image/png": "[encoded data removed]",
      "text/plain": [
       "<matplotlib.figure.Figure at 0x7eff24e98a58>"
      ]
     },
     "metadata": {},
     "output_type": "display_data"
    },
    {
     "name": "stdout",
     "output_type": "stream",
     "text": [
      "\n",
      "./traffic/kindergarten_32_32.jpg\n",
      "value: 1.0 <==> index: 28\n",
      "value: 0.0 <==> index: 0\n",
      "value: 0.0 <==> index: 1\n",
      "value: 0.0 <==> index: 2\n",
      "value: 0.0 <==> index: 3\n"
     ]
    },
    {
     "data": {
      "image/png": "[encoded data removed]",
      "text/plain": [
       "<matplotlib.figure.Figure at 0x7eff20f15f98>"
      ]
     },
     "metadata": {},
     "output_type": "display_data"
    }
   ],
   "source": [
    "### Run the predictions here.\n",
    "### Feel free to use as many code cells as needed.\n",
    "with tf.Session() as sess:\n",
    "    new_saver = tf.train.import_meta_graph('./lenet.meta')\n",
    "    new_saver.restore(sess, './lenet')\n",
    "    \n",
    "    dropout = 1\n",
    "\n",
    "    # prediction operations\n",
    "    predict_op = tf.nn.softmax(logits)\n",
    "    result = sess.run(\n",
    "        predict_op, feed_dict={x: predict_img, keep_prob: dropout}\n",
    "    )\n",
    "\n",
    "    values, indices = sess.run(tf.nn.top_k(result, k=5))\n",
    "    for i in range(0, len(predict_img)):\n",
    "        print()\n",
    "        print(image_list[i])\n",
    "        for j in range(0, values[i].size):\n",
    "            print(\"value: {0} <==> index: {1}\".format(values[i][j], indices[i][j]))\n",
    "        \n",
    "        # visualize the possibilities of predictions on each traffic sign  \n",
    "        plt.figure(i)\n",
    "        pos = np.arange(values[i].size)\n",
    "        plt.bar(pos, values[i], align='center', alpha=0.5)\n",
    "        plt.xticks(pos, indices[i])\n",
    "        plt.ylabel('Predictions')\n",
    "        plt.show()"
   ]
  },
  {
   "cell_type": "markdown",
   "metadata": {},
   "source": [
    "### Question 7\n",
    "\n",
    "_Is your model able to perform equally well on captured pictures when compared to testing on the dataset? The simplest way to do this check the accuracy of the predictions. For example, if the model predicted 1 out of 5 signs correctly, it's 20% accurate._\n",
    "\n",
    "_**NOTE:** You could check the accuracy manually by using `signnames.csv` (same directory). This file has a mapping from the class id (0-42) to the corresponding sign name. So, you could take the class id the model outputs, lookup the name in `signnames.csv` and see if it matches the sign from the image._\n"
   ]
  },
  {
   "cell_type": "markdown",
   "metadata": {},
   "source": [
    "**Answer:** Mostly, it's accurately predicted 5 out of the 6 signs from randomly chosen German road sign collection. However I did pre-process the pictures so they are all 32x32 in size and very similar to the training datasets."
   ]
  },
  {
   "cell_type": "code",
   "execution_count": 10,
   "metadata": {
    "collapsed": true
   },
   "outputs": [],
   "source": [
    "### Visualize the softmax probabilities here.\n",
    "### Feel free to use as many code cells as needed.\n",
    "\n",
    "# See above visualization from question 7."
   ]
  },
  {
   "cell_type": "markdown",
   "metadata": {},
   "source": [
    "### Question 8\n",
    "\n",
    "*Use the model's softmax probabilities to visualize the **certainty** of its predictions, [`tf.nn.top_k`](https://www.tensorflow.org/versions/r0.12/api_docs/python/nn.html#top_k) could prove helpful here. Which predictions is the model certain of? Uncertain? If the model was incorrect in its initial prediction, does the correct prediction appear in the top k? (k should be 5 at most)*\n",
    "\n",
    "`tf.nn.top_k` will return the values and indices (class ids) of the top k predictions. So if k=3, for each sign, it'll return the 3 largest probabilities (out of a possible 43) and the correspoding class ids.\n",
    "\n",
    "Take this numpy array as an example:\n",
    "\n",
    "```\n",
    "# (5, 6) array\n",
    "a = np.array([[ 0.24879643,  0.07032244,  0.12641572,  0.34763842,  0.07893497,\n",
    "         0.12789202],\n",
    "       [ 0.28086119,  0.27569815,  0.08594638,  0.0178669 ,  0.18063401,\n",
    "         0.15899337],\n",
    "       [ 0.26076848,  0.23664738,  0.08020603,  0.07001922,  0.1134371 ,\n",
    "         0.23892179],\n",
    "       [ 0.11943333,  0.29198961,  0.02605103,  0.26234032,  0.1351348 ,\n",
    "         0.16505091],\n",
    "       [ 0.09561176,  0.34396535,  0.0643941 ,  0.16240774,  0.24206137,\n",
    "         0.09155967]])\n",
    "```\n",
    "\n",
    "Running it through `sess.run(tf.nn.top_k(tf.constant(a), k=3))` produces:\n",
    "\n",
    "```\n",
    "TopKV2(values=array([[ 0.34763842,  0.24879643,  0.12789202],\n",
    "       [ 0.28086119,  0.27569815,  0.18063401],\n",
    "       [ 0.26076848,  0.23892179,  0.23664738],\n",
    "       [ 0.29198961,  0.26234032,  0.16505091],\n",
    "       [ 0.34396535,  0.24206137,  0.16240774]]), indices=array([[3, 0, 5],\n",
    "       [0, 1, 4],\n",
    "       [0, 5, 1],\n",
    "       [1, 3, 5],\n",
    "       [1, 4, 3]], dtype=int32))\n",
    "```\n",
    "\n",
    "Looking just at the first row we get `[ 0.34763842,  0.24879643,  0.12789202]`, you can confirm these are the 3 largest probabilities in `a`. You'll also notice `[3, 0, 5]` are the corresponding indices."
   ]
  },
  {
   "cell_type": "markdown",
   "metadata": {},
   "source": [
    "**Answer:** See question 7 for visualizations. "
   ]
  },
  {
   "cell_type": "markdown",
   "metadata": {},
   "source": [
    "> **Note**: Once you have completed all of the code implementations and successfully answered each question above, you may finalize your work by exporting the iPython Notebook as an HTML document. You can do this by using the menu above and navigating to  \\n\",\n",
    "    \"**File -> Download as -> HTML (.html)**. Include the finished document along with this notebook as your submission."
   ]
  },
  {
   "cell_type": "code",
   "execution_count": null,
   "metadata": {
    "collapsed": true
   },
   "outputs": [],
   "source": []
  },
  {
   "cell_type": "code",
   "execution_count": null,
   "metadata": {
    "collapsed": true
   },
   "outputs": [],
   "source": []
  }
 ],
 "metadata": {
  "anaconda-cloud": {},
  "kernelspec": {
   "display_name": "Python [conda env:tf-py35]",
   "language": "python",
   "name": "conda-env-tf-py35-py"
  },
  "language_info": {
   "codemirror_mode": {
    "name": "ipython",
    "version": 3
   },
   "file_extension": ".py",
   "mimetype": "text/x-python",
   "name": "python",
   "nbconvert_exporter": "python",
   "pygments_lexer": "ipython3",
   "version": "3.5.2"
  }
 },
 "nbformat": 4,
 "nbformat_minor": 0
}
